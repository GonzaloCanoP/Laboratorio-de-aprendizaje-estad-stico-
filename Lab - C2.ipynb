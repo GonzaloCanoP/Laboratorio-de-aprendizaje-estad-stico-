{
 "cells": [
  {
   "cell_type": "markdown",
   "id": "c191c972-2c85-4284-a555-7db618ba5b26",
   "metadata": {},
   "source": [
    "# Laboratorio de regresión logística"
   ]
  },
  {
   "cell_type": "markdown",
   "id": "e11c177c-1848-44b0-8c6b-b35537b5ae2f",
   "metadata": {},
   "source": [
    "|                |                      |\n",
    ":----------------|----------------------|\n",
    "| **Nombre**     | Gonzalo Cano Padilla |\n",
    "| **Fecha**      | 12/10/2025           |\n",
    "| **Expediente** | 745901               |"
   ]
  },
  {
   "cell_type": "markdown",
   "id": "4b95344a-b10c-465d-a5f4-bfa65905420c",
   "metadata": {},
   "source": [
    "In machine learning, Support Vector Machines (SVM) are supervised learning models with associated learning algorithms that analyze data used for classification and regression analysis. It is mostly used in classification problems. In this algorithm, each data item is plotted as a point in p-dimensional space (where p is the number of features), with the value of each feature being the value of a particular coordinate. Then, classification is performed by finding the hyper-plane that best differentiates the two classes (or more if we have a multi class problem):\n",
    "\n",
    "$$ f(x) = w^T \\varphi(x) + b $$\n",
    "\n",
    "where $\\varphi: X \\rightarrow F $ is a function that makes each input point $x$ correspond to a point in F, where F is a Hilbert space.\n",
    "\n",
    "In addition to performing linear classification, SVMs can efficiently perform a non-linear classification, implicitly mapping their inputs into high-dimensional feature spaces (more specifically using the kernel trick, like the RBF funcion). \n",
    "\n",
    "[1]\n",
    "\n",
    "OLS utilizes the squared residuals to fit the parameters. Large residuals caused by outliers may worsen the accuracy significantly.\n",
    "\n",
    "Support Vectors use piecewise linear functions to counter this, in which a hyperparameter  $\\epsilon$ called the margin lets errors that are less or equal to it be 0, and error larger than it be $e - \\epsilon$. \n",
    "\n",
    "The problem to solve is:\n",
    "\n",
    "\\begin{split}\n",
    "        \\min_{w, b, \\xi, \\xi^*} \\mathcal{P}_\\epsilon(w, b, \\xi) &= \\frac{1}{2} w^T w + c \\sum_{k=1}^{N} \\xi_k \\\\\n",
    "        \\text{s.t. } & y_k [w^T \\varphi(x_k) - b] \\geq 1- \\xi_k,\\ \\ k = 1, ..., N \\\\\n",
    "        & \\xi_k \\geq 0,\\ \\ k = 1, ..., N\n",
    "\\end{split}\n",
    "\n",
    "\n",
    "The most important question that arises when using a SVM is how to choose the correct hyperplane. Consider the following scenarios:"
   ]
  },
  {
   "cell_type": "markdown",
   "id": "ffd4c629-c547-433d-90ff-852a1e722a95",
   "metadata": {},
   "source": [
    "### Scenario 1\n",
    "\n",
    "In this scenario there are three hyperplanes called A, B, and C. Now, the problem is to identify the hyperplane which best differentiates the stars and the circles.\n",
    "\n",
    "<center><img src=\"https://media.geeksforgeeks.org/wp-content/uploads/SVM_21-2.png\" alt=\"what image shows\"></center>\n",
    "\n",
    "In this case, hyperplane B separates the stars and the circle betters, hence it is the correct hyperplane.\n"
   ]
  },
  {
   "cell_type": "markdown",
   "id": "3d158b5b-99f1-435a-9b91-0d8a17363bce",
   "metadata": {},
   "source": [
    "### Scenario 2\n",
    "\n",
    "Now take another scenario where all three hyperplanes are segregating classes well. The question that arises is how to choose the best hyperplane in this situation.\n",
    "\n",
    "<center><img src=\"https://media.geeksforgeeks.org/wp-content/uploads/SVM_4-2.png\" alt=\"what image shows\"></center>\n",
    "\n",
    "In such scenarios, we calculate the margin (which is the distance between nearest data point and the hyperplane). The hyperplane with the largest margin will be considered as the correct hyperplane to classify the dataset.\n",
    "\n",
    "Here C has the largest margin. Hence, it is considered as the best hyperplane.\n"
   ]
  },
  {
   "cell_type": "markdown",
   "id": "d4ae4b6d-e3fe-4496-8f7a-242697fb058e",
   "metadata": {},
   "source": [
    "### Kernels\n",
    "Knowing \n",
    "$$ w = \\sum_{k=1}^{N} \\alpha_k y_k \\varphi(x_k) $$\n",
    "\n",
    "And\n",
    "$$ y_{pred} = w^T \\varphi(x) + b $$\n",
    "\n",
    "Then \n",
    "$$ y_{pred} = (\\sum_{k=1}^{N} \\alpha_k y_k \\varphi(x_k))^T \\varphi(x) + b $$\n",
    "\n",
    "Where $\\varphi$ is a function that makes each input in $x$ correspond to a point in $F$ (a Hilbert space). This can be seen as processing and transforming the input featuers to keep the model's convexity. [2]\n",
    "\n",
    "This also allows us to transform the inputs into another space where they might be more easily classified.\n",
    "\n",
    "<center><img src=https://miro.medium.com/max/838/1*gXvhD4IomaC9Jb37tzDUVg.png alt=\"what image shows\"></center>"
   ]
  },
  {
   "cell_type": "markdown",
   "id": "d8cdd455-cb0d-477c-84a8-326453792426",
   "metadata": {},
   "source": [
    "## ROC and AUC\n",
    "\n",
    "A ROC (Receiver Operating Characteristic) is a graph that shows how the classification model performs at the classification thresholds. \n",
    "\n",
    "ROC curves typically feature true positive rate on the Y axis, and false positive rate on the X axis. This means that the top left corner of the plot is the “ideal” point - a false positive rate of zero, and a true positive rate of one. This is not very realistic, but it does mean that a larger area under the curve (AUC) is usually better. [3]\n",
    "\n",
    "True Positive Rate is a synonym for Recall and defined as:\n",
    "$$ TPR = \\frac{TP}{TP + FN} $$\n",
    "\n",
    "False Positive Rate is a synonym for Specificity and defined as:\n",
    "\n",
    "$$ FPR = \\frac{FP}{FP + TN} $$\n",
    "\n",
    "ROC curves are typically used in binary classification to study the output of a classifier. In order to extend ROC curve and ROC area to multi-label classification, it is necessary to binarize the output. One ROC curve can be drawn per label, but one can also draw a ROC curve by considering each element of the label indicator matrix as a binary prediction (micro-averaging).\n",
    "\n",
    "E.g. If you lower a classification threshold, more items would be classified as positive, increasing False Positives and True Positives.\n",
    "\n",
    "AUC stands for Area under the ROC."
   ]
  },
  {
   "cell_type": "markdown",
   "id": "3ce8fe3e-dca0-4f66-94c6-18f3545cb865",
   "metadata": {},
   "source": [
    "## Ejercicio 1"
   ]
  },
  {
   "cell_type": "markdown",
   "id": "ca93403a-dc07-4059-8e97-991e98d8caf4",
   "metadata": {},
   "source": [
    "- Utiliza el dataset `Iris`, modela con SVC y haz Cross-Validation de diferentes kernels ('linear', 'poly', 'rbf', 'sigmoid').\n",
    "- Modela con LogisticRegression.\n",
    "- El método de Cross-Validation es K-Folds con $k=10$.\n",
    "- Utiliza el AUC como métrico de Cross-Validation.\n",
    "- Compara resultados."
   ]
  },
  {
   "cell_type": "code",
   "id": "dedae7bb-ce63-4f38-aeb1-353c7f579909",
   "metadata": {
    "ExecuteTime": {
     "end_time": "2025-10-13T18:20:16.806083Z",
     "start_time": "2025-10-13T18:20:15.726860Z"
    }
   },
   "source": [
    "from sklearn.datasets import load_iris\n",
    "import pandas as pd\n",
    "\n",
    "# Load the Iris dataset\n",
    "iris = load_iris()\n",
    "X = iris.data\n",
    "y = iris.target"
   ],
   "outputs": [],
   "execution_count": 8
  },
  {
   "cell_type": "code",
   "id": "7cf935dc-8d6b-4503-8ba3-90d9d55fef20",
   "metadata": {
    "ExecuteTime": {
     "end_time": "2025-10-13T18:20:16.810776Z",
     "start_time": "2025-10-13T18:20:16.809278Z"
    }
   },
   "source": [
    "from sklearn.model_selection import StratifiedKFold, cross_val_score\n",
    "from sklearn.svm import SVC\n",
    "from sklearn.linear_model import LogisticRegression\n",
    "from sklearn.metrics import make_scorer, roc_auc_score"
   ],
   "outputs": [],
   "execution_count": 9
  },
  {
   "cell_type": "code",
   "id": "70f3396a-82a3-4046-ae16-d88946f8cd00",
   "metadata": {
    "ExecuteTime": {
     "end_time": "2025-10-13T18:20:18.262939Z",
     "start_time": "2025-10-13T18:20:18.258150Z"
    }
   },
   "source": [
    "# AUC\n",
    "auc = make_scorer(roc_auc_score, needs_proba=True, multi_class='ovr')\n",
    "\n",
    "# Cross-Validation K-fold\n",
    "cv = StratifiedKFold(n_splits=10, shuffle=True, random_state=42)"
   ],
   "outputs": [
    {
     "name": "stderr",
     "output_type": "stream",
     "text": [
      "/opt/anaconda3/lib/python3.12/site-packages/sklearn/metrics/_scorer.py:610: FutureWarning: The `needs_threshold` and `needs_proba` parameter are deprecated in version 1.4 and will be removed in 1.6. You can either let `response_method` be `None` or set it to `predict` to preserve the same behaviour.\n",
      "  warnings.warn(\n"
     ]
    }
   ],
   "execution_count": 10
  },
  {
   "metadata": {
    "ExecuteTime": {
     "end_time": "2025-10-13T18:23:01.407013Z",
     "start_time": "2025-10-13T18:23:01.377871Z"
    }
   },
   "cell_type": "code",
   "source": [
    "# SVC Kernel linear\n",
    "svc_linear = SVC(kernel='linear', probability=True, random_state=42)\n",
    "scores_linear = cross_val_score(svc_linear, X, y, cv=cv, scoring=auc)\n",
    "print(f\"SVC linear: Mean AUC = {scores_linear.mean()}\")\n",
    "print(f\" Std = {scores_linear.std()}\")"
   ],
   "id": "e77cee747923d9cc",
   "outputs": [
    {
     "name": "stdout",
     "output_type": "stream",
     "text": [
      "SVC linear: Mean AUC = 0.9960000000000001\n",
      " Std = 0.008537498983243812\n"
     ]
    }
   ],
   "execution_count": 13
  },
  {
   "metadata": {
    "ExecuteTime": {
     "end_time": "2025-10-13T18:24:57.695002Z",
     "start_time": "2025-10-13T18:24:57.663144Z"
    }
   },
   "cell_type": "code",
   "source": [
    "# SVC Kernel poly\n",
    "svc_poly = SVC(kernel='poly', probability=True, random_state=42)\n",
    "scores_poly = cross_val_score(svc_poly, X, y, cv=cv, scoring=auc)\n",
    "print(f\"SVC poly: Mean AUC = {scores_poly.mean()}\")\n",
    "print(f\" Std = {scores_poly.std()}\")"
   ],
   "id": "7d0da304a0546d13",
   "outputs": [
    {
     "name": "stdout",
     "output_type": "stream",
     "text": [
      "SVC poly: Mean AUC = 0.9960000000000001\n",
      " Std = 0.008537498983243812\n"
     ]
    }
   ],
   "execution_count": 14
  },
  {
   "metadata": {
    "ExecuteTime": {
     "end_time": "2025-10-13T18:30:37.745700Z",
     "start_time": "2025-10-13T18:30:37.712369Z"
    }
   },
   "cell_type": "code",
   "source": [
    "# SVC Kernel rbf\n",
    "svc_rbf = SVC(kernel='rbf', probability=True, random_state=42)\n",
    "scores_rbf = cross_val_score(svc_rbf, X, y, cv=cv, scoring=auc)\n",
    "print(f\"SVC rbf: Mean AUC = {scores_rbf.mean()}\")\n",
    "print(f\" Std = {scores_rbf.std()}\")"
   ],
   "id": "cf7fd0211856461e",
   "outputs": [
    {
     "name": "stdout",
     "output_type": "stream",
     "text": [
      "SVC rbf: Mean AUC = 0.9973333333333333\n",
      " Std = 0.008000000000000018\n"
     ]
    }
   ],
   "execution_count": 28
  },
  {
   "metadata": {
    "ExecuteTime": {
     "end_time": "2025-10-13T18:31:18.999918Z",
     "start_time": "2025-10-13T18:31:18.952581Z"
    }
   },
   "cell_type": "code",
   "source": [
    "# SVC Kernel sigmoid\n",
    "svc_sigmoid = SVC(kernel='sigmoid', probability=True, random_state=42)\n",
    "scores_sigmoid = cross_val_score(svc_sigmoid, X, y, cv=cv, scoring=auc)\n",
    "print(f\"SVC sigmoid: Mean AUC = {scores_sigmoid.mean()}\")\n",
    "print(f\" Std = {scores_sigmoid.std()}\")"
   ],
   "id": "19d2849883929b04",
   "outputs": [
    {
     "name": "stdout",
     "output_type": "stream",
     "text": [
      "SVC sigmoid: Mean AUC = 0.7466666666666667\n",
      " Std = 0.04898979485566354\n"
     ]
    }
   ],
   "execution_count": 29
  },
  {
   "metadata": {
    "ExecuteTime": {
     "end_time": "2025-10-13T18:45:39.613202Z",
     "start_time": "2025-10-13T18:45:39.548841Z"
    }
   },
   "cell_type": "code",
   "source": [
    "# Regresión logística\n",
    "lr = LogisticRegression(max_iter=1000, random_state=42)\n",
    "lr_scores = cross_val_score(lr, X, y, cv=cv, scoring=auc)\n",
    "print(f\"Logistic Regression: Mean AUC = {lr_scores.mean()}\")\n",
    "print(f\" Logistic Regression: Std = {lr_scores.std()}\")"
   ],
   "id": "a16011a11adf96c3",
   "outputs": [
    {
     "name": "stdout",
     "output_type": "stream",
     "text": [
      "Logistic Regression: Mean AUC = 0.9960000000000001\n",
      " Logistic Regression: Std = 0.008537498983243812\n"
     ]
    }
   ],
   "execution_count": 32
  },
  {
   "metadata": {},
   "cell_type": "markdown",
   "source": [
    "### Conclusiones:\n",
    "\n",
    "* Todos los resultados de las SVC dan resultados muy parecidos excepto el de sigmoid, también la regresión logística nos da resultados muy similares a nuestras SVC, eso es muy bueno ya que es fácil de interpretar y mucho más fácil de hacer, también podemos ver que en este caso el sigmoid es irrelevante por sus resultados"
   ],
   "id": "91c55f82a4b51c2f"
  },
  {
   "cell_type": "markdown",
   "id": "c7e26d1b-1bd2-4839-a743-a63f6b258a42",
   "metadata": {},
   "source": [
    "## Ejercicio 2\n",
    "- Repite el ejercicio 1 con el dataset `Default`. Utiliza `default` como target."
   ]
  },
  {
   "metadata": {
    "ExecuteTime": {
     "end_time": "2025-10-13T19:04:56.760299Z",
     "start_time": "2025-10-13T19:04:56.745847Z"
    }
   },
   "cell_type": "code",
   "source": [
    "datos = pd.read_csv('Default.csv')\n",
    "datos['default'] = datos['default'].astype('category')\n",
    "datos['student'] = datos['student'].astype('category')\n",
    "\n",
    "datos['default'] = datos['default'].cat.codes\n",
    "datos['student'] = datos['student'].cat.codes\n",
    "\n",
    "datos"
   ],
   "id": "699474bc5140e768",
   "outputs": [
    {
     "data": {
      "text/plain": [
       "      default  student      balance        income\n",
       "0           0        0   729.526495  44361.625074\n",
       "1           0        1   817.180407  12106.134700\n",
       "2           0        0  1073.549164  31767.138950\n",
       "3           0        0   529.250605  35704.493940\n",
       "4           0        0   785.655883  38463.495880\n",
       "...       ...      ...          ...           ...\n",
       "9995        0        0   711.555020  52992.378910\n",
       "9996        0        0   757.962918  19660.721770\n",
       "9997        0        0   845.411989  58636.156980\n",
       "9998        0        0  1569.009053  36669.112360\n",
       "9999        0        1   200.922183  16862.952320\n",
       "\n",
       "[10000 rows x 4 columns]"
      ],
      "text/html": [
       "<div>\n",
       "<style scoped>\n",
       "    .dataframe tbody tr th:only-of-type {\n",
       "        vertical-align: middle;\n",
       "    }\n",
       "\n",
       "    .dataframe tbody tr th {\n",
       "        vertical-align: top;\n",
       "    }\n",
       "\n",
       "    .dataframe thead th {\n",
       "        text-align: right;\n",
       "    }\n",
       "</style>\n",
       "<table border=\"1\" class=\"dataframe\">\n",
       "  <thead>\n",
       "    <tr style=\"text-align: right;\">\n",
       "      <th></th>\n",
       "      <th>default</th>\n",
       "      <th>student</th>\n",
       "      <th>balance</th>\n",
       "      <th>income</th>\n",
       "    </tr>\n",
       "  </thead>\n",
       "  <tbody>\n",
       "    <tr>\n",
       "      <th>0</th>\n",
       "      <td>0</td>\n",
       "      <td>0</td>\n",
       "      <td>729.526495</td>\n",
       "      <td>44361.625074</td>\n",
       "    </tr>\n",
       "    <tr>\n",
       "      <th>1</th>\n",
       "      <td>0</td>\n",
       "      <td>1</td>\n",
       "      <td>817.180407</td>\n",
       "      <td>12106.134700</td>\n",
       "    </tr>\n",
       "    <tr>\n",
       "      <th>2</th>\n",
       "      <td>0</td>\n",
       "      <td>0</td>\n",
       "      <td>1073.549164</td>\n",
       "      <td>31767.138950</td>\n",
       "    </tr>\n",
       "    <tr>\n",
       "      <th>3</th>\n",
       "      <td>0</td>\n",
       "      <td>0</td>\n",
       "      <td>529.250605</td>\n",
       "      <td>35704.493940</td>\n",
       "    </tr>\n",
       "    <tr>\n",
       "      <th>4</th>\n",
       "      <td>0</td>\n",
       "      <td>0</td>\n",
       "      <td>785.655883</td>\n",
       "      <td>38463.495880</td>\n",
       "    </tr>\n",
       "    <tr>\n",
       "      <th>...</th>\n",
       "      <td>...</td>\n",
       "      <td>...</td>\n",
       "      <td>...</td>\n",
       "      <td>...</td>\n",
       "    </tr>\n",
       "    <tr>\n",
       "      <th>9995</th>\n",
       "      <td>0</td>\n",
       "      <td>0</td>\n",
       "      <td>711.555020</td>\n",
       "      <td>52992.378910</td>\n",
       "    </tr>\n",
       "    <tr>\n",
       "      <th>9996</th>\n",
       "      <td>0</td>\n",
       "      <td>0</td>\n",
       "      <td>757.962918</td>\n",
       "      <td>19660.721770</td>\n",
       "    </tr>\n",
       "    <tr>\n",
       "      <th>9997</th>\n",
       "      <td>0</td>\n",
       "      <td>0</td>\n",
       "      <td>845.411989</td>\n",
       "      <td>58636.156980</td>\n",
       "    </tr>\n",
       "    <tr>\n",
       "      <th>9998</th>\n",
       "      <td>0</td>\n",
       "      <td>0</td>\n",
       "      <td>1569.009053</td>\n",
       "      <td>36669.112360</td>\n",
       "    </tr>\n",
       "    <tr>\n",
       "      <th>9999</th>\n",
       "      <td>0</td>\n",
       "      <td>1</td>\n",
       "      <td>200.922183</td>\n",
       "      <td>16862.952320</td>\n",
       "    </tr>\n",
       "  </tbody>\n",
       "</table>\n",
       "<p>10000 rows × 4 columns</p>\n",
       "</div>"
      ]
     },
     "execution_count": 41,
     "metadata": {},
     "output_type": "execute_result"
    }
   ],
   "execution_count": 41
  },
  {
   "cell_type": "code",
   "id": "ea0bb2af-09ae-4056-aa6f-f15289ae1f0d",
   "metadata": {
    "ExecuteTime": {
     "end_time": "2025-10-13T19:07:17.775056Z",
     "start_time": "2025-10-13T19:07:17.767295Z"
    }
   },
   "source": [
    "from sklearn.preprocessing import StandardScaler\n",
    "y = datos['default']\n",
    "X = datos.drop(columns=['default'])\n",
    "\n",
    "scaler = StandardScaler()\n",
    "X_scaled = scaler.fit_transform(X)"
   ],
   "outputs": [],
   "execution_count": 43
  },
  {
   "cell_type": "code",
   "id": "44c9b2d2-236f-4a1e-b9dc-fabe78fd8332",
   "metadata": {
    "ExecuteTime": {
     "end_time": "2025-10-13T19:08:22.872537Z",
     "start_time": "2025-10-13T19:08:22.870541Z"
    }
   },
   "source": [
    "cv = StratifiedKFold(n_splits=10, shuffle=True, random_state=42)\n",
    "auc = make_scorer(roc_auc_score, needs_proba=True)"
   ],
   "outputs": [
    {
     "name": "stderr",
     "output_type": "stream",
     "text": [
      "/opt/anaconda3/lib/python3.12/site-packages/sklearn/metrics/_scorer.py:610: FutureWarning: The `needs_threshold` and `needs_proba` parameter are deprecated in version 1.4 and will be removed in 1.6. You can either let `response_method` be `None` or set it to `predict` to preserve the same behaviour.\n",
      "  warnings.warn(\n"
     ]
    }
   ],
   "execution_count": 44
  },
  {
   "cell_type": "code",
   "id": "0f51dd70-7125-4c3f-a5f3-0f2e56cea8da",
   "metadata": {
    "ExecuteTime": {
     "end_time": "2025-10-13T19:10:45.699942Z",
     "start_time": "2025-10-13T19:10:30.381803Z"
    }
   },
   "source": [
    "# SVC Kernel linear\n",
    "svc_linear = SVC(kernel='linear', probability=True, random_state=42)\n",
    "scores_linear = cross_val_score(svc_linear, X_scaled, y, cv=cv, scoring=auc)\n",
    "print(f\"SVC linear: Mean AUC = {scores_linear.mean()}\")\n",
    "print(f\" Std = {scores_linear.std()}\")\n",
    "\n",
    "# SVC Kernel poly\n",
    "svc_poly = SVC(kernel='poly', probability=True, random_state=42)\n",
    "scores_poly = cross_val_score(svc_poly, X_scaled, y, cv=cv, scoring=auc)\n",
    "print(f\"SVC poly: Mean AUC = {scores_poly.mean()}\")\n",
    "print(f\" Std = {scores_poly.std()}\")\n",
    "\n",
    "# SVC Kernel rbf\n",
    "svc_rbf = SVC(kernel='rbf', probability=True, random_state=42)\n",
    "scores_rbf = cross_val_score(svc_rbf, X_scaled, y, cv=cv, scoring=auc)\n",
    "print(f\"SVC rbf: Mean AUC = {scores_rbf.mean()}\")\n",
    "print(f\" Std = {scores_rbf.std()}\")\n",
    "\n",
    "# SVC Kernel sigmoid\n",
    "svc_sigmoid = SVC(kernel='sigmoid', probability=True, random_state=42)\n",
    "scores_sigmoid = cross_val_score(svc_sigmoid, X_scaled, y, cv=cv, scoring=auc)\n",
    "print(f\"SVC sigmoid: Mean AUC = {scores_sigmoid.mean()}\")\n",
    "print(f\" Std = {scores_sigmoid.std()}\")\n",
    "\n",
    "# Regresión logística\n",
    "lr = LogisticRegression(max_iter=1000, random_state=42)\n",
    "lr_scores = cross_val_score(lr, X_scaled, y, cv=cv, scoring=auc)\n",
    "print(f\"Logistic Regression: Mean AUC = {lr_scores.mean()}\")\n",
    "print(f\" Logistic Regression: Std = {lr_scores.std()}\")"
   ],
   "outputs": [
    {
     "name": "stdout",
     "output_type": "stream",
     "text": [
      "SVC linear: Mean AUC = 0.9234717809363998\n",
      " Std = 0.02939609120687792\n",
      "SVC poly: Mean AUC = 0.8754009902312456\n",
      " Std = 0.03862006777756825\n",
      "SVC rbf: Mean AUC = 0.8420681140173757\n",
      " Std = 0.03993946572772782\n",
      "SVC sigmoid: Mean AUC = 0.7292903257824297\n",
      " Std = 0.044029927981728036\n",
      "Logistic Regression: Mean AUC = 0.9485090208590397\n",
      " Logistic Regression: Std = 0.022115258544766887\n"
     ]
    }
   ],
   "execution_count": 45
  },
  {
   "metadata": {},
   "cell_type": "markdown",
   "source": [
    "### Conclusiones\n",
    "\n",
    "* En este caso la regresión logística fue la que tuvo mejores resultados, lo cual nos dice que tiene mucho mejor eficacia para saber si los clientes no pagaran su crédito, el modelo de SVC linear tambien nos dio muy buenos resultados y los demas SVC con los otros kernels tuvieron resultados con peor desempeño, en este caso con estos datos la mejor opción es la regresión logística"
   ],
   "id": "87df1b1d6d2289e4"
  },
  {
   "attachments": {},
   "cell_type": "markdown",
   "id": "138473b9-3a81-43cb-83a5-a362e535b736",
   "metadata": {},
   "source": [
    "# Addendum\n",
    "\n",
    "Métricos disponibles para clasificación:\n",
    "- ‘accuracy’\n",
    "- ‘balanced_accuracy’\n",
    "- ‘top_k_accuracy’\n",
    "- ‘average_precision’\n",
    "- ‘neg_brier_score’\n",
    "- ‘f1’\n",
    "- ‘f1_micro’\n",
    "- ‘f1_macro’\n",
    "- ‘f1_weighted’\n",
    "- ‘f1_samples’\n",
    "- ‘neg_log_loss’\n",
    "- ‘precision’ etc.\n",
    "- ‘recall’ etc.\n",
    "- ‘jaccard’ etc.\n",
    "- ‘roc_auc’\n",
    "- ‘roc_auc_ovr’\n",
    "- ‘roc_auc_ovo’\n",
    "- ‘roc_auc_ovr_weighted’\n",
    "- ‘roc_auc_ovo_weighted’\n",
    "- ‘d2_log_loss_score’"
   ]
  },
  {
   "cell_type": "markdown",
   "id": "e68a114d-84df-46fc-b1fb-4729410bdb5f",
   "metadata": {},
   "source": [
    "# References\n",
    "\n",
    "[1] Shigeo Abe.Support Vector Machines for Pattern Classification,2Ed.Springer-Verlag London,2010. ISBN978-1-84996-097-7. URLhttps://www.springer.com/gp/book/9781849960977.\n",
    "\n",
    "[2] Johan A K Suykens, Tony Van Gestel, Jos De Brabanter, BartDe Moor, and Joos Vandewalle.Least Squares Support VectorMachines. World Scientific,2002. ISBN9789812381514. URLhttps://www.worldscientific.com/worldscibooks/10.1142/5089.\n",
    "\n",
    "[3] Bradley, A. P. (1997). The use of the area under the ROC curve in the evaluation of machine learning algorithms. Pattern recognition, 30(7), 1145-1159. URL https://www.researchgate.net/post/how_can_I_interpret_the_ROC_curve_result"
   ]
  }
 ],
 "metadata": {
  "kernelspec": {
   "display_name": "Python 3 (ipykernel)",
   "language": "python",
   "name": "python3"
  },
  "language_info": {
   "codemirror_mode": {
    "name": "ipython",
    "version": 3
   },
   "file_extension": ".py",
   "mimetype": "text/x-python",
   "name": "python",
   "nbconvert_exporter": "python",
   "pygments_lexer": "ipython3",
   "version": "3.12.7"
  }
 },
 "nbformat": 4,
 "nbformat_minor": 5
}

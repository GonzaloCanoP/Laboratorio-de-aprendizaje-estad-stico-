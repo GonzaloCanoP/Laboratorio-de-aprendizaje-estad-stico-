{
 "cells": [
  {
   "metadata": {},
   "cell_type": "markdown",
   "source": [
    "# Actividad de práctica Barin Tumor\n",
    "\n",
    "**Gonzalo Cano Padilla**\n",
    "\n",
    "Pasos para resolverlo:\n",
    "* Primero cargar los datos\n",
    "* Luego separar X y y\n",
    "* Transformar las variables categoricas\n",
    "* Definir el modelo SVC\n",
    "* Hacer el pipeline\n",
    "* Optimización bayesiana\n",
    "*"
   ],
   "id": "91cd3c4e20185801"
  },
  {
   "metadata": {
    "ExecuteTime": {
     "end_time": "2025-10-27T23:34:38.316607Z",
     "start_time": "2025-10-27T23:34:38.029925Z"
    }
   },
   "cell_type": "code",
   "source": [
    "# Librerias\n",
    "import pandas as pd\n",
    "from sklearn.model_selection import StratifiedKFold, cross_val_score\n",
    "from sklearn.preprocessing import OneHotEncoder\n",
    "from sklearn.compose import ColumnTransformer\n",
    "from sklearn.pipeline import Pipeline\n",
    "from sklearn.svm import SVC\n",
    "from sklearn.metrics import roc_auc_score, make_scorer\n",
    "from sklearn.preprocessing import StandardScaler"
   ],
   "id": "39b1617c35b2de1c",
   "outputs": [],
   "execution_count": 1
  },
  {
   "cell_type": "code",
   "id": "initial_id",
   "metadata": {
    "collapsed": true,
    "ExecuteTime": {
     "end_time": "2025-10-27T23:34:40.077372Z",
     "start_time": "2025-10-27T23:34:40.026005Z"
    }
   },
   "source": [
    "# Cargar datos\n",
    "datos = pd.read_csv('brain_tumor_dataset.csv', index_col=0)\n",
    "datos.info()"
   ],
   "outputs": [
    {
     "name": "stdout",
     "output_type": "stream",
     "text": [
      "<class 'pandas.core.frame.DataFrame'>\n",
      "Index: 20000 entries, 1 to 20000\n",
      "Data columns (total 18 columns):\n",
      " #   Column               Non-Null Count  Dtype  \n",
      "---  ------               --------------  -----  \n",
      " 0   Age                  20000 non-null  int64  \n",
      " 1   Gender               20000 non-null  object \n",
      " 2   Tumor_Type           20000 non-null  object \n",
      " 3   Tumor_Size           20000 non-null  float64\n",
      " 4   Location             20000 non-null  object \n",
      " 5   Histology            20000 non-null  object \n",
      " 6   Stage                20000 non-null  object \n",
      " 7   Symptom_1            20000 non-null  object \n",
      " 8   Symptom_2            20000 non-null  object \n",
      " 9   Symptom_3            20000 non-null  object \n",
      " 10  Radiation_Treatment  20000 non-null  object \n",
      " 11  Surgery_Performed    20000 non-null  object \n",
      " 12  Chemotherapy         20000 non-null  object \n",
      " 13  Survival_Rate        20000 non-null  float64\n",
      " 14  Tumor_Growth_Rate    20000 non-null  float64\n",
      " 15  Family_History       20000 non-null  object \n",
      " 16  MRI_Result           20000 non-null  object \n",
      " 17  Follow_Up_Required   20000 non-null  object \n",
      "dtypes: float64(3), int64(1), object(14)\n",
      "memory usage: 2.9+ MB\n"
     ]
    }
   ],
   "execution_count": 2
  },
  {
   "metadata": {
    "ExecuteTime": {
     "end_time": "2025-10-27T23:34:41.843585Z",
     "start_time": "2025-10-27T23:34:41.836164Z"
    }
   },
   "cell_type": "code",
   "source": "datos.head()",
   "id": "1b6d8d0e36535a30",
   "outputs": [
    {
     "data": {
      "text/plain": [
       "            Age  Gender Tumor_Type  Tumor_Size  Location        Histology  \\\n",
       "Patient_ID                                                                  \n",
       "1            73    Male  Malignant    5.375612  Temporal      Astrocytoma   \n",
       "2            26    Male     Benign    4.847098  Parietal     Glioblastoma   \n",
       "3            31    Male     Benign    5.588391  Parietal       Meningioma   \n",
       "4            29    Male  Malignant    1.436600  Temporal  Medulloblastoma   \n",
       "5            54  Female     Benign    2.417506  Parietal     Glioblastoma   \n",
       "\n",
       "           Stage      Symptom_1 Symptom_2 Symptom_3 Radiation_Treatment  \\\n",
       "Patient_ID                                                                \n",
       "1            III  Vision Issues  Seizures  Seizures                  No   \n",
       "2             II       Headache  Headache    Nausea                 Yes   \n",
       "3              I  Vision Issues  Headache  Seizures                  No   \n",
       "4             IV  Vision Issues  Seizures  Headache                 Yes   \n",
       "5              I       Headache  Headache  Seizures                  No   \n",
       "\n",
       "           Surgery_Performed Chemotherapy  Survival_Rate  Tumor_Growth_Rate  \\\n",
       "Patient_ID                                                                    \n",
       "1                         No           No      51.312579           0.111876   \n",
       "2                        Yes          Yes      46.373273           2.165736   \n",
       "3                         No           No      47.072221           1.884228   \n",
       "4                         No          Yes      51.853634           1.283342   \n",
       "5                         No          Yes      54.708987           2.069477   \n",
       "\n",
       "           Family_History MRI_Result Follow_Up_Required  \n",
       "Patient_ID                                               \n",
       "1                      No   Positive                Yes  \n",
       "2                     Yes   Positive                Yes  \n",
       "3                      No   Negative                 No  \n",
       "4                     Yes   Negative                 No  \n",
       "5                      No   Positive                Yes  "
      ],
      "text/html": [
       "<div>\n",
       "<style scoped>\n",
       "    .dataframe tbody tr th:only-of-type {\n",
       "        vertical-align: middle;\n",
       "    }\n",
       "\n",
       "    .dataframe tbody tr th {\n",
       "        vertical-align: top;\n",
       "    }\n",
       "\n",
       "    .dataframe thead th {\n",
       "        text-align: right;\n",
       "    }\n",
       "</style>\n",
       "<table border=\"1\" class=\"dataframe\">\n",
       "  <thead>\n",
       "    <tr style=\"text-align: right;\">\n",
       "      <th></th>\n",
       "      <th>Age</th>\n",
       "      <th>Gender</th>\n",
       "      <th>Tumor_Type</th>\n",
       "      <th>Tumor_Size</th>\n",
       "      <th>Location</th>\n",
       "      <th>Histology</th>\n",
       "      <th>Stage</th>\n",
       "      <th>Symptom_1</th>\n",
       "      <th>Symptom_2</th>\n",
       "      <th>Symptom_3</th>\n",
       "      <th>Radiation_Treatment</th>\n",
       "      <th>Surgery_Performed</th>\n",
       "      <th>Chemotherapy</th>\n",
       "      <th>Survival_Rate</th>\n",
       "      <th>Tumor_Growth_Rate</th>\n",
       "      <th>Family_History</th>\n",
       "      <th>MRI_Result</th>\n",
       "      <th>Follow_Up_Required</th>\n",
       "    </tr>\n",
       "    <tr>\n",
       "      <th>Patient_ID</th>\n",
       "      <th></th>\n",
       "      <th></th>\n",
       "      <th></th>\n",
       "      <th></th>\n",
       "      <th></th>\n",
       "      <th></th>\n",
       "      <th></th>\n",
       "      <th></th>\n",
       "      <th></th>\n",
       "      <th></th>\n",
       "      <th></th>\n",
       "      <th></th>\n",
       "      <th></th>\n",
       "      <th></th>\n",
       "      <th></th>\n",
       "      <th></th>\n",
       "      <th></th>\n",
       "      <th></th>\n",
       "    </tr>\n",
       "  </thead>\n",
       "  <tbody>\n",
       "    <tr>\n",
       "      <th>1</th>\n",
       "      <td>73</td>\n",
       "      <td>Male</td>\n",
       "      <td>Malignant</td>\n",
       "      <td>5.375612</td>\n",
       "      <td>Temporal</td>\n",
       "      <td>Astrocytoma</td>\n",
       "      <td>III</td>\n",
       "      <td>Vision Issues</td>\n",
       "      <td>Seizures</td>\n",
       "      <td>Seizures</td>\n",
       "      <td>No</td>\n",
       "      <td>No</td>\n",
       "      <td>No</td>\n",
       "      <td>51.312579</td>\n",
       "      <td>0.111876</td>\n",
       "      <td>No</td>\n",
       "      <td>Positive</td>\n",
       "      <td>Yes</td>\n",
       "    </tr>\n",
       "    <tr>\n",
       "      <th>2</th>\n",
       "      <td>26</td>\n",
       "      <td>Male</td>\n",
       "      <td>Benign</td>\n",
       "      <td>4.847098</td>\n",
       "      <td>Parietal</td>\n",
       "      <td>Glioblastoma</td>\n",
       "      <td>II</td>\n",
       "      <td>Headache</td>\n",
       "      <td>Headache</td>\n",
       "      <td>Nausea</td>\n",
       "      <td>Yes</td>\n",
       "      <td>Yes</td>\n",
       "      <td>Yes</td>\n",
       "      <td>46.373273</td>\n",
       "      <td>2.165736</td>\n",
       "      <td>Yes</td>\n",
       "      <td>Positive</td>\n",
       "      <td>Yes</td>\n",
       "    </tr>\n",
       "    <tr>\n",
       "      <th>3</th>\n",
       "      <td>31</td>\n",
       "      <td>Male</td>\n",
       "      <td>Benign</td>\n",
       "      <td>5.588391</td>\n",
       "      <td>Parietal</td>\n",
       "      <td>Meningioma</td>\n",
       "      <td>I</td>\n",
       "      <td>Vision Issues</td>\n",
       "      <td>Headache</td>\n",
       "      <td>Seizures</td>\n",
       "      <td>No</td>\n",
       "      <td>No</td>\n",
       "      <td>No</td>\n",
       "      <td>47.072221</td>\n",
       "      <td>1.884228</td>\n",
       "      <td>No</td>\n",
       "      <td>Negative</td>\n",
       "      <td>No</td>\n",
       "    </tr>\n",
       "    <tr>\n",
       "      <th>4</th>\n",
       "      <td>29</td>\n",
       "      <td>Male</td>\n",
       "      <td>Malignant</td>\n",
       "      <td>1.436600</td>\n",
       "      <td>Temporal</td>\n",
       "      <td>Medulloblastoma</td>\n",
       "      <td>IV</td>\n",
       "      <td>Vision Issues</td>\n",
       "      <td>Seizures</td>\n",
       "      <td>Headache</td>\n",
       "      <td>Yes</td>\n",
       "      <td>No</td>\n",
       "      <td>Yes</td>\n",
       "      <td>51.853634</td>\n",
       "      <td>1.283342</td>\n",
       "      <td>Yes</td>\n",
       "      <td>Negative</td>\n",
       "      <td>No</td>\n",
       "    </tr>\n",
       "    <tr>\n",
       "      <th>5</th>\n",
       "      <td>54</td>\n",
       "      <td>Female</td>\n",
       "      <td>Benign</td>\n",
       "      <td>2.417506</td>\n",
       "      <td>Parietal</td>\n",
       "      <td>Glioblastoma</td>\n",
       "      <td>I</td>\n",
       "      <td>Headache</td>\n",
       "      <td>Headache</td>\n",
       "      <td>Seizures</td>\n",
       "      <td>No</td>\n",
       "      <td>No</td>\n",
       "      <td>Yes</td>\n",
       "      <td>54.708987</td>\n",
       "      <td>2.069477</td>\n",
       "      <td>No</td>\n",
       "      <td>Positive</td>\n",
       "      <td>Yes</td>\n",
       "    </tr>\n",
       "  </tbody>\n",
       "</table>\n",
       "</div>"
      ]
     },
     "execution_count": 3,
     "metadata": {},
     "output_type": "execute_result"
    }
   ],
   "execution_count": 3
  },
  {
   "metadata": {
    "ExecuteTime": {
     "end_time": "2025-10-27T23:34:43.091497Z",
     "start_time": "2025-10-27T23:34:43.087043Z"
    }
   },
   "cell_type": "code",
   "source": [
    "# Separar X y y\n",
    "y = datos['Tumor_Type']\n",
    "X = datos.drop(columns=['Tumor_Type'])"
   ],
   "id": "3478ff6d00c6cafc",
   "outputs": [],
   "execution_count": 4
  },
  {
   "metadata": {
    "ExecuteTime": {
     "end_time": "2025-10-27T23:34:45.536685Z",
     "start_time": "2025-10-27T23:34:45.532275Z"
    }
   },
   "cell_type": "code",
   "source": [
    "#Sacar el tipo de columnas\n",
    "num_features = X.select_dtypes(include=['int64', 'float64']).columns.tolist()\n",
    "cat_features = X.select_dtypes(include=['object']).columns.tolist()\n",
    "\n",
    "# Preprocesamiento\n",
    "numerical_transformer = StandardScaler()\n",
    "preprocess = ColumnTransformer(\n",
    "    transformers=[\n",
    "        ('cat', OneHotEncoder(handle_unknown='ignore'), cat_features),\n",
    "        ('num', numerical_transformer, num_features)\n",
    "    ]\n",
    ")"
   ],
   "id": "6eba6da4cd576fc1",
   "outputs": [],
   "execution_count": 5
  },
  {
   "metadata": {
    "ExecuteTime": {
     "end_time": "2025-10-27T23:34:46.367747Z",
     "start_time": "2025-10-27T23:34:46.365962Z"
    }
   },
   "cell_type": "code",
   "source": [
    "# Definir el SVC y el pipeline\n",
    "svc = SVC(kernel='linear', probability=True, random_state=42)\n",
    "\n",
    "pipeline = Pipeline(steps=[\n",
    "    ('preprocessor', preprocess),\n",
    "    ('SVC', svc)\n",
    "])"
   ],
   "id": "44b916e65cab97c7",
   "outputs": [],
   "execution_count": 6
  },
  {
   "metadata": {
    "ExecuteTime": {
     "end_time": "2025-10-27T23:40:17.587998Z",
     "start_time": "2025-10-27T23:35:23.826191Z"
    }
   },
   "cell_type": "code",
   "source": [
    "# Cross validation y AUC\n",
    "cv = StratifiedKFold(n_splits=10, shuffle=True, random_state=42)\n",
    "\n",
    "auc = make_scorer(roc_auc_score, needs_proba=True, greater_is_better=True)\n",
    "\n",
    "# Probar\n",
    "scores = cross_val_score(pipeline, X, y, scoring=auc, cv=cv, n_jobs=-1)\n",
    "\n",
    "print(\"AUC por fold:\", scores)\n",
    "print(\"AUC promedio:\", scores.mean())"
   ],
   "id": "9d53191b0b01f8f2",
   "outputs": [
    {
     "name": "stderr",
     "output_type": "stream",
     "text": [
      "/opt/anaconda3/lib/python3.12/site-packages/sklearn/metrics/_scorer.py:610: FutureWarning: The `needs_threshold` and `needs_proba` parameter are deprecated in version 1.4 and will be removed in 1.6. You can either let `response_method` be `None` or set it to `predict` to preserve the same behaviour.\n",
      "  warnings.warn(\n"
     ]
    },
    {
     "name": "stdout",
     "output_type": "stream",
     "text": [
      "AUC por fold: [0.5        0.5        0.5004955  0.50361153 0.50981659 0.5\n",
      " 0.50555055 0.49288394 0.49633297 0.5       ]\n",
      "AUC promedio: 0.5008691078219705\n"
     ]
    }
   ],
   "execution_count": 8
  },
  {
   "metadata": {
    "ExecuteTime": {
     "end_time": "2025-10-27T23:40:37.313542Z",
     "start_time": "2025-10-27T23:40:37.310574Z"
    }
   },
   "cell_type": "code",
   "source": [
    "# Definir función objetivo\n",
    "def f_obj(logC):\n",
    "    valor_C = 10**logC\n",
    "    svc = SVC(kernel='linear', probability=True, random_state=42, C=valor_C)\n",
    "    pipeline = Pipeline(steps=[\n",
    "    ('preprocessor', preprocess),\n",
    "    ('SVC', svc)\n",
    "])\n",
    "    scores = cross_val_score(pipeline, X, y, scoring=auc, cv=cv, n_jobs=-1)\n",
    "\n",
    "    return scores.mean()\n"
   ],
   "id": "d4f976cdad24c3a6",
   "outputs": [],
   "execution_count": 9
  },
  {
   "metadata": {
    "ExecuteTime": {
     "end_time": "2025-10-27T23:40:40.094693Z",
     "start_time": "2025-10-27T23:40:38.832089Z"
    }
   },
   "cell_type": "code",
   "source": "%pip install bayesian_optimization",
   "id": "5307cb95e34d07a9",
   "outputs": [
    {
     "name": "stdout",
     "output_type": "stream",
     "text": [
      "Collecting bayesian_optimization\r\n",
      "  Downloading bayesian_optimization-3.1.0-py3-none-any.whl.metadata (11 kB)\r\n",
      "Requirement already satisfied: colorama>=0.4.6 in /opt/anaconda3/lib/python3.12/site-packages (from bayesian_optimization) (0.4.6)\r\n",
      "Requirement already satisfied: numpy>=1.25 in /opt/anaconda3/lib/python3.12/site-packages (from bayesian_optimization) (1.26.4)\r\n",
      "Requirement already satisfied: scikit-learn>=1.0.0 in /opt/anaconda3/lib/python3.12/site-packages (from bayesian_optimization) (1.5.1)\r\n",
      "Requirement already satisfied: scipy>=1.0.0 in /opt/anaconda3/lib/python3.12/site-packages (from bayesian_optimization) (1.13.1)\r\n",
      "Requirement already satisfied: joblib>=1.2.0 in /opt/anaconda3/lib/python3.12/site-packages (from scikit-learn>=1.0.0->bayesian_optimization) (1.4.2)\r\n",
      "Requirement already satisfied: threadpoolctl>=3.1.0 in /opt/anaconda3/lib/python3.12/site-packages (from scikit-learn>=1.0.0->bayesian_optimization) (3.5.0)\r\n",
      "Downloading bayesian_optimization-3.1.0-py3-none-any.whl (36 kB)\r\n",
      "Installing collected packages: bayesian_optimization\r\n",
      "Successfully installed bayesian_optimization-3.1.0\r\n",
      "Note: you may need to restart the kernel to use updated packages.\n"
     ]
    }
   ],
   "execution_count": 10
  },
  {
   "metadata": {
    "jupyter": {
     "is_executing": true
    },
    "ExecuteTime": {
     "start_time": "2025-10-27T23:45:48.731745Z"
    }
   },
   "cell_type": "code",
   "source": [
    "from bayes_opt import BayesianOptimization\n",
    "# Optimización bayesiana\n",
    "optimizer = BayesianOptimization(\n",
    "    f=f_obj,           # función objetivo\n",
    "    pbounds={'logC': (-4, 2)},  # rango de búsqueda\n",
    "    random_state=42,\n",
    "    verbose=2\n",
    ")\n",
    "\n",
    "optimizer.maximize(init_points=3, n_iter=7)\n",
    "\n",
    "print(\"Mejor resultado encontrado:\")\n",
    "print(optimizer.max)"
   ],
   "id": "bf33bd302e97f6c5",
   "outputs": [
    {
     "name": "stdout",
     "output_type": "stream",
     "text": [
      "|   iter    |  target   |   logC    |\n",
      "-------------------------------------\n"
     ]
    }
   ],
   "execution_count": null
  },
  {
   "metadata": {},
   "cell_type": "code",
   "outputs": [],
   "execution_count": null,
   "source": "",
   "id": "db690871ce605e5a"
  }
 ],
 "metadata": {
  "kernelspec": {
   "display_name": "Python 3",
   "language": "python",
   "name": "python3"
  },
  "language_info": {
   "codemirror_mode": {
    "name": "ipython",
    "version": 2
   },
   "file_extension": ".py",
   "mimetype": "text/x-python",
   "name": "python",
   "nbconvert_exporter": "python",
   "pygments_lexer": "ipython2",
   "version": "2.7.6"
  }
 },
 "nbformat": 4,
 "nbformat_minor": 5
}
